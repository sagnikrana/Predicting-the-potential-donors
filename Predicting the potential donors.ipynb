{
 "cells": [
  {
   "cell_type": "code",
   "execution_count": 163,
   "metadata": {},
   "outputs": [],
   "source": [
    "import pandas as pd\n",
    "import numpy as np\n",
    "import seaborn as sns\n",
    "from sklearn import linear_model\n",
    "import warnings\n",
    "warnings.filterwarnings('ignore')\n"
   ]
  },
  {
   "cell_type": "code",
   "execution_count": 164,
   "metadata": {},
   "outputs": [
    {
     "name": "stdout",
     "output_type": "stream",
     "text": [
      "<class 'pandas.core.frame.DataFrame'>\n",
      "RangeIndex: 25000 entries, 0 to 24999\n",
      "Data columns (total 14 columns):\n",
      "target                   25000 non-null int64\n",
      "gender_F                 25000 non-null int64\n",
      "income_high              25000 non-null int64\n",
      "income_low               25000 non-null int64\n",
      "country_USA              25000 non-null int64\n",
      "country_India            25000 non-null int64\n",
      "country_UK               25000 non-null int64\n",
      "age                      25000 non-null int64\n",
      "time_since_last_gift     25000 non-null int64\n",
      "time_since_first_gift    25000 non-null int64\n",
      "max_gift                 25000 non-null float64\n",
      "min_gift                 25000 non-null float64\n",
      "mean_gift                25000 non-null float64\n",
      "number_gift              25000 non-null int64\n",
      "dtypes: float64(3), int64(11)\n",
      "memory usage: 2.7 MB\n",
      "None\n",
      "Index(['target', 'gender_F', 'income_high', 'income_low', 'country_USA',\n",
      "       'country_India', 'country_UK', 'age', 'time_since_last_gift',\n",
      "       'time_since_first_gift', 'max_gift', 'min_gift', 'mean_gift',\n",
      "       'number_gift'],\n",
      "      dtype='object')\n"
     ]
    }
   ],
   "source": [
    "basetable = pd.read_csv('basetable_ex2_4.csv')\n",
    "print(basetable.info())\n",
    "print(basetable.columns)"
   ]
  },
  {
   "cell_type": "markdown",
   "metadata": {},
   "source": [
    "Printing the details about the basetable"
   ]
  },
  {
   "cell_type": "code",
   "execution_count": 165,
   "metadata": {},
   "outputs": [
    {
     "name": "stdout",
     "output_type": "stream",
     "text": [
      "Population Size -  25000\n",
      "Target Count -  1187\n",
      "Target Incidence -  0.04748\n"
     ]
    }
   ],
   "source": [
    "# Assign the number of rows in the basetable to the variable 'population_size'.\n",
    "\n",
    "population_size  = len(basetable)\n",
    "\n",
    "# Print the population size.\n",
    "print('Population Size - ',population_size)\n",
    "\n",
    "# Assign the number of targets to the variable 'targets_count'.\n",
    "targets_count = basetable['target'].sum()\n",
    "\n",
    "# Print the number of targets.\n",
    "print('Target Count - ',targets_count)\n",
    "\n",
    "# Print the target incidence.\n",
    "print('Target Incidence - ',targets_count / population_size)"
   ]
  },
  {
   "cell_type": "code",
   "execution_count": 166,
   "metadata": {
    "scrolled": true
   },
   "outputs": [
    {
     "name": "stdout",
     "output_type": "stream",
     "text": [
      "No of males -  12421\n",
      "No of females -  12579\n",
      "Average age who are not the target-  53.49103430899089\n",
      "Average age who are the target-  55.89300758213985\n",
      "We can see that the people who are more likely to donate have the higher age.\n"
     ]
    }
   ],
   "source": [
    "\n",
    "no_of_males = basetable['gender_F'] == 0\n",
    "no_of_females = basetable['gender_F'] == 1\n",
    "print('No of males - ',len(basetable[no_of_males]))\n",
    "print('No of females - ',len(basetable[no_of_females]))\n",
    "copy_basetable = basetable\n",
    "basetable = basetable[basetable['target'] == 0]\n",
    "print('Average age who are not the target- ',basetable['age'].mean())\n",
    "copy_basetable = copy_basetable[copy_basetable['target'] == 1]\n",
    "print('Average age who are the target- ',copy_basetable['age'].mean())\n",
    "print('We can see that the people who are more likely to donate have the higher age.')"
   ]
  },
  {
   "cell_type": "code",
   "execution_count": 167,
   "metadata": {},
   "outputs": [
    {
     "name": "stdout",
     "output_type": "stream",
     "text": [
      "The co-relation between age and target is positive -  [[0.00703792]]\n"
     ]
    }
   ],
   "source": [
    "basetable = pd.read_csv('basetable_ex2_4.csv')\n",
    "\n",
    "# Create a dataframe X that only contains the candidate predictors age, gender_F and time_since_last_gift\n",
    "X = basetable[['age']]\n",
    "\n",
    "# Create a dataframe y that contains the target.\n",
    "y = basetable[['target']]\n",
    "\n",
    "# Create a logistic regression model logreg and fit it to the data.\n",
    "logreg = linear_model.LogisticRegression()\n",
    "logreg.fit(X, y)\n",
    "if(logreg.coef_ > 0):\n",
    "    print('The co-relation between age and target is positive - ',logreg.coef_)\n",
    "else:\n",
    "    print('The co-relation between age and target is negative - ',logreg.coef_)\n"
   ]
  },
  {
   "cell_type": "code",
   "execution_count": 168,
   "metadata": {},
   "outputs": [
    {
     "name": "stdout",
     "output_type": "stream",
     "text": [
      "The coefficients are -  [[ 0.00717836  0.11430415 -0.00130875]]\n",
      "The intercept is  -  [-2.54149728]\n",
      "Females are more likely to donate\n"
     ]
    }
   ],
   "source": [
    "# Create a dataframe X that only contains the candidate predictors age, gender_F and time_since_last_gift.\n",
    "X = basetable[['age', 'gender_F', 'time_since_last_gift']]\n",
    "\n",
    "# Create a dataframe y that contains the target.\n",
    "y = basetable[['target']]\n",
    "\n",
    "# Create a logistic regression model logreg and fit it to the data.\n",
    "logreg = linear_model.LogisticRegression()\n",
    "logreg.fit(X, y)\n",
    "print('The coefficients are - ', logreg.coef_)\n",
    "print('The intercept is  - ', logreg.intercept_)\n",
    "if logreg.coef_[:,1] > 0:\n",
    "    print('Females are more likely to donate')\n",
    "else:\n",
    "    print('Males are more likely to donate')\n"
   ]
  },
  {
   "cell_type": "code",
   "execution_count": 169,
   "metadata": {},
   "outputs": [
    {
     "name": "stdout",
     "output_type": "stream",
     "text": [
      "Chance that the female will donate -  [11.2305826] percent\n"
     ]
    }
   ],
   "source": [
    "# Predicting the outcomes for a given dataset\n",
    "prediction = logreg.predict_proba([[72,1,120]])\n",
    "print('Chance that the female will donate - ',prediction[:,1] * 100,'percent')"
   ]
  },
  {
   "cell_type": "code",
   "execution_count": 170,
   "metadata": {},
   "outputs": [
    {
     "name": "stdout",
     "output_type": "stream",
     "text": [
      "['gender_F', 'age', 'time_since_last_gift']\n",
      "          age gender_F time_since_last_gift\n",
      "Donor_ID                                   \n",
      "0          64        0                 1057\n",
      "1          49        0                  705\n",
      "2          61        1                  430\n",
      "3          50        0                  751\n",
      "4          34        0                  575\n",
      "5          56        1                  298\n",
      "6          35        1                 1720\n",
      "7          59        0                  776\n",
      "8          69        1                  919\n",
      "9         102        1                  650\n",
      "10         42        0                  258\n",
      "11         82        0                  509\n",
      "12         82        0                 1639\n",
      "13         60        1                  906\n",
      "14         53        1                  521\n",
      "15         66        1                 1000\n",
      "16         67        0                  644\n",
      "17         26        0                 1476\n",
      "18         44        0                  496\n",
      "19         38        0                 1047\n",
      "20         22        0                  870\n",
      "21         65        1                 1003\n",
      "22         52        1                  616\n",
      "23         27        1                  319\n",
      "24         93        0                  647\n",
      "25         57        1                  817\n",
      "26         65        1                  304\n",
      "27         51        1                  980\n",
      "28         81        0                  357\n",
      "29         35        1                 1168\n",
      "...       ...      ...                  ...\n",
      "970        60        1                 1145\n",
      "971        39        0                  638\n",
      "972        45        1                  734\n",
      "973        47        0                 1286\n",
      "974        49        1                 1333\n",
      "975        33        1                  639\n",
      "976        25        0                 1254\n",
      "977        37        1                  679\n",
      "978        67        1                  449\n",
      "979        47        1                 1254\n",
      "980        80        0                  509\n",
      "981        62        0                 1131\n",
      "982        46        1                  554\n",
      "983        58        1                  825\n",
      "984        40        1                  990\n",
      "985        52        1                 1309\n",
      "986        51        0                  452\n",
      "987        59        0                  825\n",
      "988        74        0                 1113\n",
      "989        76        1                  778\n",
      "990        57        1                  517\n",
      "991        53        0                 1104\n",
      "992        33        0                  575\n",
      "993        83        0                  891\n",
      "994        47        1                  657\n",
      "995        60        0                  101\n",
      "996        35        1                  670\n",
      "997        62        0                  959\n",
      "998        53        1                 1207\n",
      "999        53        1                 1207\n",
      "\n",
      "[1000 rows x 3 columns]\n"
     ]
    }
   ],
   "source": [
    "# Cleaning the 2017 dataset\n",
    "\n",
    "\n",
    "dataset = pd.read_excel('2017_Prediction_DataSet.xlsx')\n",
    "\n",
    "# Sorting the columns\n",
    "\n",
    "columns = list(dataset.columns)\n",
    "text = columns[0]\n",
    "array = text.split(\"  \")\n",
    "column_list = []\n",
    "for item in array:\n",
    "    if len(item) > 0:\n",
    "        column_list.append(item.strip())\n",
    "\n",
    "print(column_list)\n",
    "\n",
    "# Sorting rest of the data\n",
    "complete_data = []\n",
    "\n",
    "for i in range(1,len(dataset)+1):\n",
    "    n = list(dataset.iloc[i:i+1,0])\n",
    "    if len(n) > 0:\n",
    "        array = n[0].split(\" \")\n",
    "        temp_list = []\n",
    "        for item_index in range(1, len(array)):\n",
    "            if len(array[item_index]) > 0:\n",
    "                temp_list.append(array[item_index].strip())\n",
    "    complete_data.append(temp_list)\n",
    "\n",
    "dataframe = pd.DataFrame(complete_data, columns = column_list)\n",
    "\n",
    "data_set_2017 = dataframe[['age','gender_F','time_since_last_gift']]\n",
    "data_set_2017.index.names = ['Donor_ID']\n",
    "print(data_set_2017)\n"
   ]
  },
  {
   "cell_type": "code",
   "execution_count": 171,
   "metadata": {},
   "outputs": [
    {
     "name": "stdout",
     "output_type": "stream",
     "text": [
      "1000\n",
      "1000\n",
      "          age gender_F time_since_last_gift  Prediction_2017\n",
      "Donor_ID                                                    \n",
      "0          64        0                 1057         0.030312\n",
      "1          49        0                  705         0.042598\n",
      "2          61        1                  430         0.072287\n",
      "3          50        0                  751         0.040487\n",
      "4          34        0                  575         0.045219\n",
      "5          56        1                  298         0.082020\n",
      "6          35        1                 1720         0.011809\n",
      "7          59        0                  776         0.041744\n",
      "8          69        1                  919         0.041701\n",
      "9         102        1                  650         0.072717\n",
      "10         42        0                  258         0.070590\n",
      "11         82        0                  509         0.067924\n",
      "12         82        0                 1639         0.016336\n",
      "13         60        1                  906         0.039840\n",
      "14         53        1                  521         0.061307\n",
      "15         66        1                 1000         0.036892\n",
      "16         67        0                  644         0.051987\n",
      "17         26        0                 1476         0.013565\n",
      "18         44        0                  496         0.053414\n",
      "19         38        0                 1047         0.025606\n",
      "20         22        0                  870         0.028688\n",
      "21         65        1                 1003         0.036499\n",
      "22         52        1                  616         0.054161\n",
      "23         27        1                  319         0.065935\n",
      "24         93        0                  647         0.061765\n",
      "25         57        1                  817         0.043635\n",
      "26         65        1                  304         0.086396\n",
      "27         51        1                  980         0.034103\n",
      "28         81        0                  357         0.081116\n",
      "29         35        1                 1168         0.024020\n",
      "...       ...      ...                  ...              ...\n",
      "970        60        1                 1145         0.029455\n",
      "971        39        0                  638         0.043251\n",
      "972        45        1                  734         0.044583\n",
      "973        47        0                 1286         0.020091\n",
      "974        49        1                 1333         0.021457\n",
      "975        33        1                  639         0.046239\n",
      "976        25        0                 1254         0.017930\n",
      "977        37        1                  679         0.045207\n",
      "978        67        1                  449         0.073517\n",
      "979        47        1                 1254         0.023408\n",
      "980        80        0                  509         0.067021\n",
      "981        62        0                 1131         0.027209\n",
      "982        46        1                  554         0.056145\n",
      "983        58        1                  825         0.043498\n",
      "984        40        1                  990         0.031198\n",
      "985        52        1                 1309         0.022597\n",
      "986        51        0                  452         0.059136\n",
      "987        59        0                  825         0.039253\n",
      "988        74        0                 1113         0.030268\n",
      "989        76        1                  778         0.052161\n",
      "990        57        1                  517         0.063290\n",
      "991        53        0                 1104         0.026445\n",
      "992        33        0                  575         0.044910\n",
      "993        83        0                  891         0.042624\n",
      "994        47        1                  657         0.049753\n",
      "995        60        0                  101         0.095957\n",
      "996        35        1                  670         0.045096\n",
      "997        62        0                  959         0.033845\n",
      "998        53        1                 1207         0.025922\n",
      "999        53        1                 1207         0.025922\n",
      "\n",
      "[1000 rows x 4 columns]\n"
     ]
    }
   ],
   "source": [
    "# Predicting on the 2017_data_set\n",
    "\n",
    "predictions = logreg.predict_proba(data_set_2017)\n",
    "print(len(predictions))\n",
    "print(len(prediction_2017))\n",
    "prediction_2017 = []\n",
    "\n",
    "for num in range(0,len(predictions)):\n",
    "    prediction_2017.append(predictions[num][1])\n",
    "\n",
    "data_set_2017['Prediction_2017'] = prediction_2017 \n",
    "\n",
    "print(data_set_2017)"
   ]
  },
  {
   "cell_type": "code",
   "execution_count": 176,
   "metadata": {},
   "outputs": [
    {
     "name": "stdout",
     "output_type": "stream",
     "text": [
      "The below donors have the highest probability to donate:\n",
      "\n",
      "          age  gender_F  time_since_last_gift  Prediction_2017\n",
      "Donor_ID                                                      \n",
      "48         72         0                    70         0.107526\n",
      "56         76         1                   157         0.110356\n",
      "76         96         0                   232         0.103771\n",
      "80         66         1                    62         0.115621\n",
      "86         65         1                   196         0.098224\n",
      "110        71         0                    72         0.106589\n",
      "132        60         0                   154         0.090106\n",
      "136        62         0                   157         0.090965\n",
      "141        72         1                   172         0.105698\n",
      "162        72         1                   231         0.098618\n",
      "183        69         1                   262         0.093233\n",
      "193        59         1                   172         0.097196\n",
      "219        93         0                   201         0.105555\n",
      "306        79         1                   135         0.115395\n",
      "426        54         1                   141         0.097607\n",
      "429        68         1                    84         0.114153\n",
      "454        74         1                   200         0.103610\n",
      "518        57         1                   116         0.102492\n",
      "555        87         1                   269         0.103890\n",
      "614        62         1                   130         0.104119\n",
      "632        72         1                   255         0.095861\n",
      "634        43         1                   125         0.092615\n",
      "644        48         1                   163         0.091458\n",
      "699        57         1                   137         0.099991\n",
      "727        75         0                    74         0.109100\n",
      "778        58         1                   228         0.090360\n",
      "780        51         1                   108         0.099531\n",
      "824        87         1                   371         0.092103\n",
      "838        85         1                   198         0.111435\n",
      "859        82         0                    35         0.119342\n",
      "896        86         0                   204         0.100549\n",
      "925        51         1                   179         0.091508\n",
      "929        44         1                   151         0.090383\n",
      "931       106         1                   409         0.099610\n",
      "995        60         0                   101         0.095957\n"
     ]
    }
   ],
   "source": [
    "# Printing the donors who have more than 10 percent chance of donating in 2017\n",
    "print('The below donors have the highest probability to donate:\\n')\n",
    "\n",
    "higher_chance = data_set_2017[data_set_2017['Prediction_2017'] >= 0.09]\n",
    "lower_chance = data_set_2017[data_set_2017['Prediction_2017'] < 0.09]\n",
    "\n",
    "higher_chance['age'] = higher_chance['age'].astype(np.int64)\n",
    "higher_chance['gender_F'] = higher_chance['gender_F'].astype(np.int64)\n",
    "higher_chance['time_since_last_gift'] = higher_chance['time_since_last_gift'].astype(np.int64)\n",
    "\n",
    "lower_chance['age'] = lower_chance['age'].astype(np.int64)\n",
    "lower_chance['gender_F'] = lower_chance['gender_F'].astype(np.int64)\n",
    "lower_chance['time_since_last_gift'] = lower_chance['time_since_last_gift'].astype(np.int64)\n",
    "\n",
    "print(higher_chance)"
   ]
  },
  {
   "cell_type": "code",
   "execution_count": 173,
   "metadata": {},
   "outputs": [
    {
     "data": {
      "text/plain": [
       "<matplotlib.axes._subplots.AxesSubplot at 0x1b24220c198>"
      ]
     },
     "execution_count": 173,
     "metadata": {},
     "output_type": "execute_result"
    },
    {
     "data": {
      "image/png": "[encoded data removed]",
      "text/plain": [
       "<Figure size 432x288 with 1 Axes>"
      ]
     },
     "metadata": {},
     "output_type": "display_data"
    }
   ],
   "source": [
    "# sns.distplot(higher_chance['age'].mean())\n",
    "sns.distplot(higher_chance['age'], color='black')\n",
    "sns.distplot(lower_chance['age'], color='gold')"
   ]
  },
  {
   "cell_type": "code",
   "execution_count": 180,
   "metadata": {},
   "outputs": [
    {
     "data": {
      "text/plain": [
       "<matplotlib.axes._subplots.AxesSubplot at 0x1b24241e710>"
      ]
     },
     "execution_count": 180,
     "metadata": {},
     "output_type": "execute_result"
    },
    {
     "data": {
      "image/png": "[encoded data removed]",
      "text/plain": [
       "<Figure size 432x288 with 1 Axes>"
      ]
     },
     "metadata": {},
     "output_type": "display_data"
    }
   ],
   "source": [
    "sns.distplot(higher_chance['gender_F'], color='black', bins=2)"
   ]
  },
  {
   "cell_type": "code",
   "execution_count": 175,
   "metadata": {},
   "outputs": [
    {
     "data": {
      "text/plain": [
       "<matplotlib.axes._subplots.AxesSubplot at 0x1b2423173c8>"
      ]
     },
     "execution_count": 175,
     "metadata": {},
     "output_type": "execute_result"
    },
    {
     "data": {
      "image/png": "[encoded data removed]",
      "text/plain": [
       "<Figure size 432x288 with 1 Axes>"
      ]
     },
     "metadata": {},
     "output_type": "display_data"
    }
   ],
   "source": [
    "sns.distplot(higher_chance['time_since_last_gift'], color='black', bins = 5)\n",
    "sns.distplot(lower_chance['time_since_last_gift'], color='gold',  bins = 5)"
   ]
  },
  {
   "cell_type": "code",
   "execution_count": null,
   "metadata": {},
   "outputs": [],
   "source": []
  }
 ],
 "metadata": {
  "kernelspec": {
   "display_name": "Python 3",
   "language": "python",
   "name": "python3"
  },
  "language_info": {
   "codemirror_mode": {
    "name": "ipython",
    "version": 3
   },
   "file_extension": ".py",
   "mimetype": "text/x-python",
   "name": "python",
   "nbconvert_exporter": "python",
   "pygments_lexer": "ipython3",
   "version": "3.6.5"
  }
 },
 "nbformat": 4,
 "nbformat_minor": 2
}
